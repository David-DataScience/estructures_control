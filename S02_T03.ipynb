{
 "cells": [
  {
   "cell_type": "markdown",
   "metadata": {},
   "source": [
    "# Nivell 1:\n",
    "## - Exercici 1:\n",
    "L'exercici consisteix a crear un programa que et classifiqui una variable numèrica en funció de l’escala Suspès/Aprovat/Notable/Excel·lent."
   ]
  },
  {
   "cell_type": "code",
   "execution_count": null,
   "metadata": {},
   "outputs": [],
   "source": [
    "def classify_num(x):\n",
    "    if x < 5:\n",
    "        print(\"Suspès\")\n",
    "    elif x >= 5 and x < 7:\n",
    "        print(\"Aprovat\")\n",
    "    elif x >= 7 and x < 9:\n",
    "        print(\"Notable\")\n",
    "    elif x >= 9 and x <=10:\n",
    "        print(\"Excel.lent\")\n"
   ]
  },
  {
   "cell_type": "markdown",
   "metadata": {},
   "source": [
    "## - Exercici 2:\n",
    "Utilitzant el següent tutorial Programiz: Python Input, Output and Import crea un programa que et pregunti dos números. T’ha de mostrar un missatge dient si el primer és més gran, el segon és més gran o són iguals."
   ]
  },
  {
   "cell_type": "code",
   "execution_count": null,
   "metadata": {},
   "outputs": [],
   "source": [
    "num1 = input('Introdueix un número: ')\n",
    "num2 = input('Introdueix un segon número: ')\n",
    "\n",
    "if num1 > num2:\n",
    "    print(\"el número \", num1, \" es el més gran\")\n",
    "elif num1==num2:\n",
    "    print(\"el número \", num1, \" i el número \", num2, \" son iguals\")\n",
    "else:\n",
    "     print(\"el número \", num2, \" es el més gran\")"
   ]
  },
  {
   "cell_type": "markdown",
   "metadata": {},
   "source": [
    "## - Exercici 3:\n",
    "Crea un programa que et pregunti el teu nom, i et demani un número. Si el número és 0, hauria de mostrar un missatge d’error. En cas contrari, hauria de mostrar el nom repetit tants cops com indiqui el número. Per exemple, “Joan Joan Joan”."
   ]
  },
  {
   "cell_type": "code",
   "execution_count": null,
   "metadata": {},
   "outputs": [],
   "source": [
    "nom = input('Introdueix el teu nom: ')\n",
    "num = input('Introdueix un número: ')\n",
    "\n",
    "if int(num)==0:\n",
    "    print(\"error!!\")\n",
    "else:\n",
    "    i=0\n",
    "    while i<int(num):\n",
    "        print(nom)\n",
    "        i=i+1\n",
    "\n"
   ]
  },
  {
   "cell_type": "markdown",
   "metadata": {},
   "source": [
    "## - Exercici 4:\n",
    "Crea un programa que donada una llista qualsevol, et digui si es simètrica o no. Si ho és, que et digui quants elements té."
   ]
  },
  {
   "cell_type": "code",
   "execution_count": null,
   "metadata": {},
   "outputs": [],
   "source": [
    "def simetric(x):\n",
    "    if x == x[::-1]:\n",
    "        print(\"Si es simètric i te \", len(x), \" elements.\")\n",
    "    else:\n",
    "        print(\"No es simètric\")"
   ]
  },
  {
   "cell_type": "markdown",
   "metadata": {},
   "source": [
    "## - Exercici 5:\n",
    "Crea un programa que donada una llista, et digui quants números coincideixen amb la seva posició. Per exemple [3,4,2,0,2,3,6] el 2 i el 6 coincideixen."
   ]
  },
  {
   "cell_type": "code",
   "execution_count": null,
   "metadata": {},
   "outputs": [],
   "source": [
    "llista = [0,1,14,5,4,10,3,7,12,9,16]\n",
    "i=0\n",
    "while i<len(llista):\n",
    "    if llista.index(llista[i]) == llista[i]:\n",
    "        print(i)\n",
    "        i=i+1\n",
    "    else:\n",
    "        i=i+1\n",
    "    "
   ]
  }
 ],
 "metadata": {
  "kernelspec": {
   "display_name": "Python 3 (ipykernel)",
   "language": "python",
   "name": "python3"
  },
  "language_info": {
   "codemirror_mode": {
    "name": "ipython",
    "version": 3
   },
   "file_extension": ".py",
   "mimetype": "text/x-python",
   "name": "python",
   "nbconvert_exporter": "python",
   "pygments_lexer": "ipython3",
   "version": "3.9.7"
  },
  "toc": {
   "base_numbering": 1,
   "nav_menu": {},
   "number_sections": true,
   "sideBar": true,
   "skip_h1_title": false,
   "title_cell": "Table of Contents",
   "title_sidebar": "Contents",
   "toc_cell": false,
   "toc_position": {},
   "toc_section_display": true,
   "toc_window_display": false
  }
 },
 "nbformat": 4,
 "nbformat_minor": 4
}
